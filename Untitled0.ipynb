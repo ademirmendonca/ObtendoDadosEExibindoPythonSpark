{
  "nbformat": 4,
  "nbformat_minor": 0,
  "metadata": {
    "colab": {
      "name": "Untitled0.ipynb",
      "provenance": [],
      "collapsed_sections": [],
      "authorship_tag": "ABX9TyMsWUgJTlMseI+C1POfxB90",
      "include_colab_link": true
    },
    "kernelspec": {
      "name": "python3",
      "display_name": "Python 3"
    },
    "language_info": {
      "name": "python"
    }
  },
  "cells": [
    {
      "cell_type": "markdown",
      "metadata": {
        "id": "view-in-github",
        "colab_type": "text"
      },
      "source": [
        "<a href=\"https://colab.research.google.com/github/ademirmendonca/ObtendoDadosEExibindoPythonSpark/blob/main/Untitled0.ipynb\" target=\"_parent\"><img src=\"https://colab.research.google.com/assets/colab-badge.svg\" alt=\"Open In Colab\"/></a>"
      ]
    },
    {
      "cell_type": "code",
      "execution_count": null,
      "metadata": {
        "id": "JKmKKZCh-OdI"
      },
      "outputs": [],
      "source": [
        "#PySpark | hands on 1 | V1 | Ademir Mendonça\n",
        "#O Objetivo deste material é estudar o framework pyspark"
      ]
    },
    {
      "cell_type": "code",
      "source": [
        "##Instalando pacotes necessários"
      ],
      "metadata": {
        "id": "qWb4WBsf-vJb"
      },
      "execution_count": 1,
      "outputs": []
    },
    {
      "cell_type": "code",
      "source": [
        "from IPython.display import clear_output\n",
        "\n",
        "!pip install --upgrade pip #atualizado o gestor de pacotes do Python\n",
        "!pip install findspark\n",
        "!pip install pyspark #Instalar a lib pyspark (lib = framework)\n",
        "\n",
        "clear_output(wait=True) #Limpar a saída"
      ],
      "metadata": {
        "colab": {
          "base_uri": "https://localhost:8080/"
        },
        "id": "CMpoSHGB-zmK",
        "outputId": "8fb15f32-b05d-4634-bf48-2ae433bdba10"
      },
      "execution_count": 2,
      "outputs": [
        {
          "output_type": "stream",
          "name": "stdout",
          "text": [
            "Requirement already satisfied: pip in /usr/local/lib/python3.7/dist-packages (21.1.3)\n",
            "Collecting pip\n",
            "  Downloading pip-22.0.4-py3-none-any.whl (2.1 MB)\n",
            "\u001b[K     |████████████████████████████████| 2.1 MB 9.4 MB/s \n",
            "\u001b[?25hInstalling collected packages: pip\n",
            "  Attempting uninstall: pip\n",
            "    Found existing installation: pip 21.1.3\n",
            "    Uninstalling pip-21.1.3:\n",
            "      Successfully uninstalled pip-21.1.3\n",
            "Successfully installed pip-22.0.4\n",
            "Collecting findspark\n",
            "  Downloading findspark-2.0.1-py2.py3-none-any.whl (4.4 kB)\n",
            "Installing collected packages: findspark\n",
            "Successfully installed findspark-2.0.1\n",
            "\u001b[33mWARNING: Running pip as the 'root' user can result in broken permissions and conflicting behaviour with the system package manager. It is recommended to use a virtual environment instead: https://pip.pypa.io/warnings/venv\u001b[0m\u001b[33m\n",
            "\u001b[0mCollecting pyspark\n",
            "  Downloading pyspark-3.2.1.tar.gz (281.4 MB)\n",
            "\u001b[2K     \u001b[90m━━━━━━━━━━━━━━━━━━━━━━━━━━━━━━━━━━━━━━━\u001b[0m \u001b[32m281.4/281.4 MB\u001b[0m \u001b[31m4.6 MB/s\u001b[0m eta \u001b[36m0:00:00\u001b[0m\n",
            "\u001b[?25h  Preparing metadata (setup.py) ... \u001b[?25l\u001b[?25hdone\n",
            "Collecting py4j==0.10.9.3\n",
            "  Downloading py4j-0.10.9.3-py2.py3-none-any.whl (198 kB)\n",
            "\u001b[2K     \u001b[90m━━━━━━━━━━━━━━━━━━━━━━━━━━━━━━━━━━━━━━\u001b[0m \u001b[32m199.0/199.0 KB\u001b[0m \u001b[31m24.9 MB/s\u001b[0m eta \u001b[36m0:00:00\u001b[0m\n",
            "\u001b[?25hBuilding wheels for collected packages: pyspark\n",
            "  Building wheel for pyspark (setup.py) ... \u001b[?25l\u001b[?25hdone\n",
            "  Created wheel for pyspark: filename=pyspark-3.2.1-py2.py3-none-any.whl size=281853642 sha256=b9e7b24f592f9c77ac8d293daf89e2f27c09acce8301769254c958a7b363306d\n",
            "  Stored in directory: /root/.cache/pip/wheels/9f/f5/07/7cd8017084dce4e93e84e92efd1e1d5334db05f2e83bcef74f\n",
            "Successfully built pyspark\n",
            "Installing collected packages: py4j, pyspark\n",
            "Successfully installed py4j-0.10.9.3 pyspark-3.2.1\n",
            "\u001b[33mWARNING: Running pip as the 'root' user can result in broken permissions and conflicting behaviour with the system package manager. It is recommended to use a virtual environment instead: https://pip.pypa.io/warnings/venv\u001b[0m\u001b[33m\n",
            "\u001b[0m"
          ]
        }
      ]
    },
    {
      "cell_type": "code",
      "source": [
        "import findspark, pyspark\n",
        "from pyspark.sql import SparkSession\n",
        "from pyspark import SparkFiles"
      ],
      "metadata": {
        "id": "rdRd-Ui_ARrQ"
      },
      "execution_count": 4,
      "outputs": []
    },
    {
      "cell_type": "markdown",
      "source": [
        "## Obtendo instância do Spark"
      ],
      "metadata": {
        "id": "LCAAVxqQA57x"
      }
    },
    {
      "cell_type": "code",
      "source": [
        "findspark.init()\n",
        "spark = SparkSession.builder.getOrCreate()"
      ],
      "metadata": {
        "id": "GUCYuG90A-3A"
      },
      "execution_count": 6,
      "outputs": []
    },
    {
      "cell_type": "markdown",
      "source": [
        "## Lendo fonte de dados do GitHub"
      ],
      "metadata": {
        "id": "sII16Bi3D2sw"
      }
    },
    {
      "cell_type": "code",
      "source": [
        "url = 'https://raw.githubusercontent.com/edsonlourenco/public_datasets/main/Carros.csv'\n",
        "spark.sparkContext.addFile(url) # Faz o download do arquivo de dados\n",
        "csv_cars = SparkFiles.get('Carros.csv') #retorna o path do arquivo na tmp do Linux \n",
        "df_cars = spark.read.csv(csv_cars, header=True, inferSchema=True, sep=';')"
      ],
      "metadata": {
        "id": "Q4undu8sD65_"
      },
      "execution_count": 7,
      "outputs": []
    },
    {
      "cell_type": "code",
      "source": [
        "df_nome_tabela = spark.read.table('db.table').limit(100) #Para ler os dados em um DB"
      ],
      "metadata": {
        "id": "yHN0hk5SIPF-"
      },
      "execution_count": null,
      "outputs": []
    },
    {
      "cell_type": "markdown",
      "source": [
        ""
      ],
      "metadata": {
        "id": "_5-zdyajKquK"
      }
    },
    {
      "cell_type": "markdown",
      "source": [
        "##Checando schema"
      ],
      "metadata": {
        "id": "rLDsJ3cxG9Ml"
      }
    },
    {
      "cell_type": "code",
      "source": [
        "df_cars.printSchema()"
      ],
      "metadata": {
        "colab": {
          "base_uri": "https://localhost:8080/"
        },
        "id": "yFoBs8WSHC3l",
        "outputId": "2343cb15-26f6-4b10-8d12-0624674740aa"
      },
      "execution_count": 8,
      "outputs": [
        {
          "output_type": "stream",
          "name": "stdout",
          "text": [
            "root\n",
            " |-- Consumo: integer (nullable = true)\n",
            " |-- Cilindros: integer (nullable = true)\n",
            " |-- Cilindradas: integer (nullable = true)\n",
            " |-- RelEixoTraseiro: integer (nullable = true)\n",
            " |-- Peso: integer (nullable = true)\n",
            " |-- Tempo: integer (nullable = true)\n",
            " |-- TipoMotor: integer (nullable = true)\n",
            " |-- Transmissao: integer (nullable = true)\n",
            " |-- Marchas: integer (nullable = true)\n",
            " |-- Carburadors: integer (nullable = true)\n",
            " |-- HP: integer (nullable = true)\n",
            "\n"
          ]
        }
      ]
    },
    {
      "cell_type": "markdown",
      "source": [
        "## Contando os registros"
      ],
      "metadata": {
        "id": "No32IfeyHO18"
      }
    },
    {
      "cell_type": "code",
      "source": [
        "df_cars.count() #total de rows (linhas)"
      ],
      "metadata": {
        "colab": {
          "base_uri": "https://localhost:8080/"
        },
        "id": "KxArLzVTHTyd",
        "outputId": "9726f959-7da6-4f63-928b-2c087d6fcced"
      },
      "execution_count": 9,
      "outputs": [
        {
          "output_type": "execute_result",
          "data": {
            "text/plain": [
              "32"
            ]
          },
          "metadata": {},
          "execution_count": 9
        }
      ]
    },
    {
      "cell_type": "markdown",
      "source": [
        "## Exibindo os dados"
      ],
      "metadata": {
        "id": "l-jbh4phHjcs"
      }
    },
    {
      "cell_type": "code",
      "source": [
        "df_cars.show(truncate=False)"
      ],
      "metadata": {
        "colab": {
          "base_uri": "https://localhost:8080/"
        },
        "id": "k1IzMujuHls0",
        "outputId": "2e317bec-fb13-4f58-8e6b-52bb4324a07d"
      },
      "execution_count": 10,
      "outputs": [
        {
          "output_type": "stream",
          "name": "stdout",
          "text": [
            "+-------+---------+-----------+---------------+----+-----+---------+-----------+-------+-----------+---+\n",
            "|Consumo|Cilindros|Cilindradas|RelEixoTraseiro|Peso|Tempo|TipoMotor|Transmissao|Marchas|Carburadors|HP |\n",
            "+-------+---------+-----------+---------------+----+-----+---------+-----------+-------+-----------+---+\n",
            "|21     |6        |160        |39             |262 |1646 |0        |1          |4      |4          |110|\n",
            "|21     |6        |160        |39             |2875|1702 |0        |1          |4      |4          |110|\n",
            "|228    |4        |108        |385            |232 |1861 |1        |1          |4      |1          |93 |\n",
            "|214    |6        |258        |308            |3215|1944 |1        |0          |3      |1          |110|\n",
            "|187    |8        |360        |315            |344 |1702 |0        |0          |3      |2          |175|\n",
            "|181    |6        |225        |276            |346 |2022 |1        |0          |3      |1          |105|\n",
            "|143    |8        |360        |321            |357 |1584 |0        |0          |3      |4          |245|\n",
            "|244    |4        |1467       |369            |319 |20   |1        |0          |4      |2          |62 |\n",
            "|228    |4        |1408       |392            |315 |229  |1        |0          |4      |2          |95 |\n",
            "|192    |6        |1676       |392            |344 |183  |1        |0          |4      |4          |123|\n",
            "|178    |6        |1676       |392            |344 |189  |1        |0          |4      |4          |123|\n",
            "|164    |8        |2758       |307            |407 |174  |0        |0          |3      |3          |180|\n",
            "|173    |8        |2758       |307            |373 |176  |0        |0          |3      |3          |180|\n",
            "|152    |8        |2758       |307            |378 |18   |0        |0          |3      |3          |180|\n",
            "|104    |8        |472        |293            |525 |1798 |0        |0          |3      |4          |205|\n",
            "|104    |8        |460        |3              |5424|1782 |0        |0          |3      |4          |215|\n",
            "|147    |8        |440        |323            |5345|1742 |0        |0          |3      |4          |230|\n",
            "|324    |4        |787        |408            |22  |1947 |1        |1          |4      |1          |66 |\n",
            "|304    |4        |757        |493            |1615|1852 |1        |1          |4      |2          |52 |\n",
            "|339    |4        |711        |422            |1835|199  |1        |1          |4      |1          |65 |\n",
            "+-------+---------+-----------+---------------+----+-----+---------+-----------+-------+-----------+---+\n",
            "only showing top 20 rows\n",
            "\n"
          ]
        }
      ]
    },
    {
      "cell_type": "markdown",
      "source": [
        "##Selecionando uma coluna"
      ],
      "metadata": {
        "id": "UfF9NYsqKsAb"
      }
    },
    {
      "cell_type": "code",
      "source": [
        "df_cars.select('Tempo').show(truncate=False) "
      ],
      "metadata": {
        "colab": {
          "base_uri": "https://localhost:8080/"
        },
        "id": "EdgQjeyvKvhr",
        "outputId": "bb71f5e1-66dd-4c1d-805e-ece2743fa77d"
      },
      "execution_count": 11,
      "outputs": [
        {
          "output_type": "stream",
          "name": "stdout",
          "text": [
            "+-----+\n",
            "|Tempo|\n",
            "+-----+\n",
            "|1646 |\n",
            "|1702 |\n",
            "|1861 |\n",
            "|1944 |\n",
            "|1702 |\n",
            "|2022 |\n",
            "|1584 |\n",
            "|20   |\n",
            "|229  |\n",
            "|183  |\n",
            "|189  |\n",
            "|174  |\n",
            "|176  |\n",
            "|18   |\n",
            "|1798 |\n",
            "|1782 |\n",
            "|1742 |\n",
            "|1947 |\n",
            "|1852 |\n",
            "|199  |\n",
            "+-----+\n",
            "only showing top 20 rows\n",
            "\n"
          ]
        }
      ]
    },
    {
      "cell_type": "markdown",
      "source": [
        "## Selecionando Multiplas colunas"
      ],
      "metadata": {
        "id": "2n3lyHhRMI_i"
      }
    },
    {
      "cell_type": "code",
      "source": [
        "cols = ['Tempo', 'RelEixoTraseiro', 'Transmissao']\n",
        "df_cars.select(cols).show(truncate=False) "
      ],
      "metadata": {
        "colab": {
          "base_uri": "https://localhost:8080/"
        },
        "id": "miBUtsefMOeA",
        "outputId": "aff6840d-917b-4842-ead3-1beedb0ab3f5"
      },
      "execution_count": 12,
      "outputs": [
        {
          "output_type": "stream",
          "name": "stdout",
          "text": [
            "+-----+---------------+-----------+\n",
            "|Tempo|RelEixoTraseiro|Transmissao|\n",
            "+-----+---------------+-----------+\n",
            "|1646 |39             |1          |\n",
            "|1702 |39             |1          |\n",
            "|1861 |385            |1          |\n",
            "|1944 |308            |0          |\n",
            "|1702 |315            |0          |\n",
            "|2022 |276            |0          |\n",
            "|1584 |321            |0          |\n",
            "|20   |369            |0          |\n",
            "|229  |392            |0          |\n",
            "|183  |392            |0          |\n",
            "|189  |392            |0          |\n",
            "|174  |307            |0          |\n",
            "|176  |307            |0          |\n",
            "|18   |307            |0          |\n",
            "|1798 |293            |0          |\n",
            "|1782 |3              |0          |\n",
            "|1742 |323            |0          |\n",
            "|1947 |408            |1          |\n",
            "|1852 |493            |1          |\n",
            "|199  |422            |1          |\n",
            "+-----+---------------+-----------+\n",
            "only showing top 20 rows\n",
            "\n"
          ]
        }
      ]
    },
    {
      "cell_type": "markdown",
      "source": [
        "## Melhorando a identação do código"
      ],
      "metadata": {
        "id": "MzNTcRVcM7EZ"
      }
    },
    {
      "cell_type": "code",
      "source": [
        "cols = ['Tempo', 'RelEixoTraseiro', 'Transmissao']\n",
        "df_cars.orderBy('Tempo').select(cols).show(truncate=False) "
      ],
      "metadata": {
        "colab": {
          "base_uri": "https://localhost:8080/"
        },
        "id": "4AERaaP7NBuo",
        "outputId": "5f5606e3-5ec0-4185-f1b1-c67f4e1a2e27"
      },
      "execution_count": 15,
      "outputs": [
        {
          "output_type": "stream",
          "name": "stdout",
          "text": [
            "+-----+---------------+-----------+\n",
            "|Tempo|RelEixoTraseiro|Transmissao|\n",
            "+-----+---------------+-----------+\n",
            "|18   |307            |0          |\n",
            "|20   |369            |0          |\n",
            "|145  |422            |1          |\n",
            "|146  |354            |1          |\n",
            "|155  |362            |1          |\n",
            "|167  |443            |1          |\n",
            "|169  |377            |1          |\n",
            "|173  |315            |0          |\n",
            "|174  |307            |0          |\n",
            "|176  |307            |0          |\n",
            "|183  |392            |0          |\n",
            "|186  |411            |1          |\n",
            "|189  |392            |0          |\n",
            "|189  |408            |1          |\n",
            "|199  |422            |1          |\n",
            "|229  |392            |0          |\n",
            "|1541 |373            |0          |\n",
            "|1584 |321            |0          |\n",
            "|1646 |39             |1          |\n",
            "|1687 |276            |0          |\n",
            "+-----+---------------+-----------+\n",
            "only showing top 20 rows\n",
            "\n"
          ]
        }
      ]
    },
    {
      "cell_type": "code",
      "source": [
        "cols = ['Tempo', 'RelEixoTraseiro', 'Transmissao']\n",
        "(\n",
        "    df_cars\n",
        "    .orderBy('Tempo')\n",
        "    .select(cols)\n",
        "    .show(truncate=False)\n",
        ")"
      ],
      "metadata": {
        "colab": {
          "base_uri": "https://localhost:8080/"
        },
        "id": "82YG1Q0YNei_",
        "outputId": "dd4142f9-c28b-44fa-ed93-4f1bb5ca4441"
      },
      "execution_count": 16,
      "outputs": [
        {
          "output_type": "stream",
          "name": "stdout",
          "text": [
            "+-----+---------------+-----------+\n",
            "|Tempo|RelEixoTraseiro|Transmissao|\n",
            "+-----+---------------+-----------+\n",
            "|18   |307            |0          |\n",
            "|20   |369            |0          |\n",
            "|145  |422            |1          |\n",
            "|146  |354            |1          |\n",
            "|155  |362            |1          |\n",
            "|167  |443            |1          |\n",
            "|169  |377            |1          |\n",
            "|173  |315            |0          |\n",
            "|174  |307            |0          |\n",
            "|176  |307            |0          |\n",
            "|183  |392            |0          |\n",
            "|186  |411            |1          |\n",
            "|189  |392            |0          |\n",
            "|189  |408            |1          |\n",
            "|199  |422            |1          |\n",
            "|229  |392            |0          |\n",
            "|1541 |373            |0          |\n",
            "|1584 |321            |0          |\n",
            "|1646 |39             |1          |\n",
            "|1687 |276            |0          |\n",
            "+-----+---------------+-----------+\n",
            "only showing top 20 rows\n",
            "\n"
          ]
        }
      ]
    },
    {
      "cell_type": "markdown",
      "source": [
        "## Agrupamento"
      ],
      "metadata": {
        "id": "nq7I7tgKOJTe"
      }
    },
    {
      "cell_type": "code",
      "source": [
        "from pyspark.sql import functions as F\n",
        "\n",
        "df_cars.groupBy('Cilindros').agg(F.count(\"*\").alias(\"Quantidade\")).show() "
      ],
      "metadata": {
        "colab": {
          "base_uri": "https://localhost:8080/"
        },
        "id": "Us0DMzsSONfW",
        "outputId": "866aa25e-10dc-4920-fc2a-e67de940ef15"
      },
      "execution_count": 18,
      "outputs": [
        {
          "output_type": "stream",
          "name": "stdout",
          "text": [
            "+---------+----------+\n",
            "|Cilindros|Quantidade|\n",
            "+---------+----------+\n",
            "|        6|         7|\n",
            "|        4|        11|\n",
            "|        8|        14|\n",
            "+---------+----------+\n",
            "\n"
          ]
        }
      ]
    },
    {
      "cell_type": "markdown",
      "source": [
        "## Melhorando o código acima"
      ],
      "metadata": {
        "id": "Ekw8h0AvPUYV"
      }
    },
    {
      "cell_type": "code",
      "source": [
        "from pyspark.sql import functions as F\n",
        "\n",
        "(\n",
        "    df_cars\n",
        "    .groupBy('Cilindros')\n",
        "    .agg(F.count(\"*\")\n",
        "    .alias(\"Quantidade\"))\n",
        "    .show() \n",
        ")"
      ],
      "metadata": {
        "id": "oxcp7x5kPW_u"
      },
      "execution_count": null,
      "outputs": []
    },
    {
      "cell_type": "markdown",
      "source": [
        "## Efetuando somas"
      ],
      "metadata": {
        "id": "RqVpFQHYRBQ9"
      }
    },
    {
      "cell_type": "code",
      "source": [
        "from pyspark.sql import functions as F\n",
        "(\n",
        "    df_cars\n",
        "          .groupBy(\"TipoMotor\")\n",
        "          .agg(F.sum(\"Peso\").alias(\"Peso_Total\"))\n",
        "          .orderBy(\"TipoMotor\")\n",
        "          .select(F.lit(\"Carros\").alias(\"Categoria\"),\n",
        "                  F.col(\"TipoMotor\"),\n",
        "                  F.col(\"Peso_Total\")                  \n",
        "          )\n",
        "          .show()\n",
        ")"
      ],
      "metadata": {
        "colab": {
          "base_uri": "https://localhost:8080/"
        },
        "id": "6E0xvlVIQ_3c",
        "outputId": "12c63b7b-f5f2-4509-82b8-1784fc04a6a0"
      },
      "execution_count": 20,
      "outputs": [
        {
          "output_type": "stream",
          "name": "stdout",
          "text": [
            "+---------+---------+----------+\n",
            "|Categoria|TipoMotor|Peso_Total|\n",
            "+---------+---------+----------+\n",
            "|   Carros|        0|     25471|\n",
            "|   Carros|        1|     14778|\n",
            "+---------+---------+----------+\n",
            "\n"
          ]
        }
      ]
    },
    {
      "cell_type": "markdown",
      "source": [
        "## Calculando a média"
      ],
      "metadata": {
        "id": "QPWHd2jgSqjb"
      }
    },
    {
      "cell_type": "code",
      "source": [
        "from pyspark.sql import functions as F\n",
        "(\n",
        "    df_cars\n",
        "          .groupBy(\"TipoMotor\")\n",
        "          .agg(F.avg(\"Peso\").alias(\"Peso_Total\"))\n",
        "          .orderBy(\"TipoMotor\")\n",
        "          .select(F.lit(\"Carros\").alias(\"Categoria\"),\n",
        "                  F.col(\"TipoMotor\"),\n",
        "                  F.col(\"Peso_Total\")                  \n",
        "          )\n",
        "          .show()\n",
        ")"
      ],
      "metadata": {
        "colab": {
          "base_uri": "https://localhost:8080/"
        },
        "id": "iEW93YrQSvnL",
        "outputId": "d678f45f-4483-4fe8-8a0e-9a0991cfb748"
      },
      "execution_count": 21,
      "outputs": [
        {
          "output_type": "stream",
          "name": "stdout",
          "text": [
            "+---------+---------+------------------+\n",
            "|Categoria|TipoMotor|        Peso_Total|\n",
            "+---------+---------+------------------+\n",
            "|   Carros|        0|1415.0555555555557|\n",
            "|   Carros|        1|1055.5714285714287|\n",
            "+---------+---------+------------------+\n",
            "\n"
          ]
        }
      ]
    },
    {
      "cell_type": "markdown",
      "source": [
        "## Extraindo a média (avg - )"
      ],
      "metadata": {
        "id": "eP31_txiS9uj"
      }
    },
    {
      "cell_type": "code",
      "source": [
        "from pyspark.sql import functions as F\n",
        "(\n",
        "    df_cars\n",
        "          .groupBy(\"TipoMotor\")\n",
        "          .agg(F.avg(\"Cilindradas\").alias(\"Peso_Total\"))\n",
        "          .orderBy(\"TipoMotor\")\n",
        "          .select(F.lit(\"Carros\").alias(\"Categoria\"),\n",
        "                  F.col(\"TipoMotor\"),\n",
        "                  F.col(\"Peso_Total\")                  \n",
        "          )\n",
        "          .show()\n",
        ")"
      ],
      "metadata": {
        "colab": {
          "base_uri": "https://localhost:8080/"
        },
        "id": "zCvzyHIjTHDT",
        "outputId": "c924d9bf-409a-40ec-c8b9-c4cab997d530"
      },
      "execution_count": 22,
      "outputs": [
        {
          "output_type": "stream",
          "name": "stdout",
          "text": [
            "+---------+---------+-----------------+\n",
            "|Categoria|TipoMotor|       Peso_Total|\n",
            "+---------+---------+-----------------+\n",
            "|   Carros|        0|            781.0|\n",
            "|   Carros|        1|816.0714285714286|\n",
            "+---------+---------+-----------------+\n",
            "\n"
          ]
        }
      ]
    },
    {
      "cell_type": "code",
      "source": [
        "## Conversão de tipo"
      ],
      "metadata": {
        "id": "7K36cfrFTYmi"
      },
      "execution_count": null,
      "outputs": []
    },
    {
      "cell_type": "code",
      "source": [
        "from pyspark.sql import functions as F\n",
        "from pyspark.sql.types import IntegerType\n",
        "(\n",
        "    df_cars\n",
        "          .groupBy(\"TipoMotor\")\n",
        "          .agg(F.avg(\"Cilindradas\").cast(IntegerType()).alias(\"Peso_Total\"))\n",
        "          .orderBy(\"TipoMotor\")\n",
        "          .select(F.lit(\"Carros\").alias(\"Categoria\"),\n",
        "                  F.col(\"TipoMotor\"),\n",
        "                  F.col(\"Peso_Total\")                  \n",
        "          )\n",
        "          .show()\n",
        ")"
      ],
      "metadata": {
        "colab": {
          "base_uri": "https://localhost:8080/"
        },
        "id": "fn5R6F2qTagS",
        "outputId": "5f5b2f2a-a69e-411e-b992-6cf7460fd0bf"
      },
      "execution_count": 24,
      "outputs": [
        {
          "output_type": "stream",
          "name": "stdout",
          "text": [
            "+---------+---------+----------+\n",
            "|Categoria|TipoMotor|Peso_Total|\n",
            "+---------+---------+----------+\n",
            "|   Carros|        0|       781|\n",
            "|   Carros|        1|       816|\n",
            "+---------+---------+----------+\n",
            "\n"
          ]
        }
      ]
    },
    {
      "cell_type": "markdown",
      "source": [
        "## Resultado com duas casas decimais"
      ],
      "metadata": {
        "id": "5-9ZM8cvUAJb"
      }
    },
    {
      "cell_type": "code",
      "source": [
        "from pyspark.sql import functions as F\n",
        "from pyspark.sql.types import IntegerType, DecimalType\n",
        "(\n",
        "    df_cars\n",
        "          .groupBy(\"TipoMotor\")\n",
        "          .agg(F.avg(\"Cilindradas\").cast(DecimalType(10,2)).alias(\"Peso_Total\"))\n",
        "          .orderBy(\"TipoMotor\")\n",
        "          .select(F.lit(\"Carros\").alias(\"Categoria\"),\n",
        "                  F.col(\"TipoMotor\"),\n",
        "                  F.col(\"Peso_Total\")                  \n",
        "          )\n",
        "          .show()\n",
        ")"
      ],
      "metadata": {
        "colab": {
          "base_uri": "https://localhost:8080/"
        },
        "id": "sz5Bj3WiUGiB",
        "outputId": "447abcd6-0e2c-432f-8cdb-06b43ad5daea"
      },
      "execution_count": 25,
      "outputs": [
        {
          "output_type": "stream",
          "name": "stdout",
          "text": [
            "+---------+---------+----------+\n",
            "|Categoria|TipoMotor|Peso_Total|\n",
            "+---------+---------+----------+\n",
            "|   Carros|        0|    781.00|\n",
            "|   Carros|        1|    816.07|\n",
            "+---------+---------+----------+\n",
            "\n"
          ]
        }
      ]
    },
    {
      "cell_type": "markdown",
      "source": [
        "## Filtrando os dados"
      ],
      "metadata": {
        "id": "v0c71Hi8U89B"
      }
    },
    {
      "cell_type": "code",
      "source": [
        "from pyspark.sql import functions as F\n",
        "\n",
        "df_cars.filter(F.col(\"TipoMotor\") == 1).show(truncate=False)"
      ],
      "metadata": {
        "colab": {
          "base_uri": "https://localhost:8080/"
        },
        "id": "DmoweCvjU-2h",
        "outputId": "2296b3c8-fdfd-4cea-89aa-da0cc665abca"
      },
      "execution_count": 27,
      "outputs": [
        {
          "output_type": "stream",
          "name": "stdout",
          "text": [
            "+-------+---------+-----------+---------------+----+-----+---------+-----------+-------+-----------+---+\n",
            "|Consumo|Cilindros|Cilindradas|RelEixoTraseiro|Peso|Tempo|TipoMotor|Transmissao|Marchas|Carburadors|HP |\n",
            "+-------+---------+-----------+---------------+----+-----+---------+-----------+-------+-----------+---+\n",
            "|228    |4        |108        |385            |232 |1861 |1        |1          |4      |1          |93 |\n",
            "|214    |6        |258        |308            |3215|1944 |1        |0          |3      |1          |110|\n",
            "|181    |6        |225        |276            |346 |2022 |1        |0          |3      |1          |105|\n",
            "|244    |4        |1467       |369            |319 |20   |1        |0          |4      |2          |62 |\n",
            "|228    |4        |1408       |392            |315 |229  |1        |0          |4      |2          |95 |\n",
            "|192    |6        |1676       |392            |344 |183  |1        |0          |4      |4          |123|\n",
            "|178    |6        |1676       |392            |344 |189  |1        |0          |4      |4          |123|\n",
            "|324    |4        |787        |408            |22  |1947 |1        |1          |4      |1          |66 |\n",
            "|304    |4        |757        |493            |1615|1852 |1        |1          |4      |2          |52 |\n",
            "|339    |4        |711        |422            |1835|199  |1        |1          |4      |1          |65 |\n",
            "|215    |4        |1201       |37             |2465|2001 |1        |0          |3      |1          |97 |\n",
            "|273    |4        |79         |408            |1935|189  |1        |1          |4      |1          |66 |\n",
            "|304    |4        |951        |377            |1513|169  |1        |1          |5      |2          |113|\n",
            "|214    |4        |121        |411            |278 |186  |1        |1          |4      |2          |109|\n",
            "+-------+---------+-----------+---------------+----+-----+---------+-----------+-------+-----------+---+\n",
            "\n"
          ]
        }
      ]
    }
  ]
}